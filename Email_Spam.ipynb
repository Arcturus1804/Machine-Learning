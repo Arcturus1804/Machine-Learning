{
  "nbformat": 4,
  "nbformat_minor": 0,
  "metadata": {
    "colab": {
      "provenance": [],
      "authorship_tag": "ABX9TyN2HL/OtiFMeWBtfkX6sUsE",
      "include_colab_link": true
    },
    "kernelspec": {
      "name": "python3",
      "display_name": "Python 3"
    },
    "language_info": {
      "name": "python"
    }
  },
  "cells": [
    {
      "cell_type": "markdown",
      "metadata": {
        "id": "view-in-github",
        "colab_type": "text"
      },
      "source": [
        "<a href=\"https://colab.research.google.com/github/Arcturus1804/Machine-Learning/blob/main/Email_Spam.ipynb\" target=\"_parent\"><img src=\"https://colab.research.google.com/assets/colab-badge.svg\" alt=\"Open In Colab\"/></a>"
      ]
    },
    {
      "cell_type": "code",
      "execution_count": 12,
      "metadata": {
        "colab": {
          "base_uri": "https://localhost:8080/"
        },
        "id": "UAU0uW-oWHNr",
        "outputId": "59aa9cd5-a557-4707-f9c8-d8dbdfebc279"
      },
      "outputs": [
        {
          "output_type": "stream",
          "name": "stdout",
          "text": [
            "Accuracy: 0.85\n"
          ]
        },
        {
          "output_type": "execute_result",
          "data": {
            "text/plain": [
              "array([0, 1, 1, 0, 1, 1, 0, 1, 0, 0, 0, 0, 0, 1, 0, 1, 1, 0, 1, 1, 0, 1,\n",
              "       1, 1, 1, 1, 1, 0, 1, 0, 1, 1, 1, 1, 0, 1, 1, 1, 1, 1, 0, 0, 1, 1,\n",
              "       0, 1, 0, 0, 1, 1, 1, 0, 1, 0, 1, 1, 1, 0, 1, 0, 1, 1, 1, 1, 1, 1,\n",
              "       1, 1, 1, 1, 1, 1, 1, 0, 0, 1, 1, 1, 1, 0, 0, 1, 1, 1, 1, 1, 1, 1,\n",
              "       1, 1, 0, 1, 1, 1, 1, 0, 0, 1, 1, 1, 1, 1, 0, 1, 1, 1, 1, 1, 0, 0])"
            ]
          },
          "metadata": {},
          "execution_count": 12
        }
      ],
      "source": [
        "import numpy as np\n",
        "import pandas as pd\n",
        "from scipy.sparse import csr_matrix, issparse\n",
        "\n",
        "class NaiveBayes:\n",
        "    def __init__(self, X, y, binning=False):\n",
        "        self.X = X.copy() if issparse(X) else csr_matrix(X)\n",
        "        self.y = y.copy()\n",
        "        self.bins = {}\n",
        "        if binning:\n",
        "            self.binvals(self.X)\n",
        "        self.binning = binning\n",
        "        self.conditionals = {}\n",
        "        self.priors = {}\n",
        "        self.prior_indices = {}\n",
        "        self.get_priors()\n",
        "\n",
        "    def binvals(self, values):\n",
        "        for i in range(values.shape[1]):\n",
        "            self.bins[i] = pd.qcut(values[:, i].toarray().flatten(), 4, retbins=True)[1]\n",
        "            values[:, i] = pd.cut(\n",
        "                values[:, i].toarray().flatten(), self.bins[i], labels=False, include_lowest=True\n",
        "            )\n",
        "\n",
        "    def get_priors(self):\n",
        "        uniquevals = np.unique(self.y)\n",
        "        for i in uniquevals:\n",
        "            indices = np.where(self.y == i)[0]\n",
        "            self.prior_indices[i] = indices\n",
        "            self.priors[i] = indices.shape[0] / self.y.shape[0]\n",
        "\n",
        "    def get_conditionals(self, observation, y_val):\n",
        "        indices = self.prior_indices[y_val]\n",
        "        size = self.X.shape[0]\n",
        "        prob = 1\n",
        "        for i in range(observation.shape[1]):\n",
        "            values = self.X[indices, i].toarray().flatten()\n",
        "            values = np.where(values == observation[:, i])[0]\n",
        "            prob = prob * ((values.shape[0] / size))\n",
        "        return prob\n",
        "\n",
        "    def predict(self, observations):\n",
        "        if self.binning:\n",
        "            observations = observations.copy()\n",
        "            for i in range(observations.shape[1]):\n",
        "                observations[:, i] = pd.cut(\n",
        "                    observations[:, i].toarray().flatten(), self.bins[i], labels=False, include_lowest=True\n",
        "                )\n",
        "        if observations.shape[1] != self.X.shape[1]:\n",
        "            print(\"Error: observation columns not the same rank as data X\")\n",
        "            return None\n",
        "\n",
        "        predictions = []\n",
        "        columns = self.X.shape[1]\n",
        "        for obs in range(observations.shape[0]):\n",
        "            obs_prediction = []\n",
        "            for key in list(self.priors.keys()):\n",
        "                val = self.get_conditionals(observations[obs].reshape(1, columns), key)\n",
        "                obs_prediction.append(val)\n",
        "            predictions.append(np.argmax(obs_prediction))\n",
        "        return np.array(predictions).reshape(\n",
        "            len(predictions),\n",
        "        )\n",
        "\n",
        "from sklearn.feature_extraction.text import TfidfVectorizer\n",
        "from sklearn.model_selection import train_test_split\n",
        "from sklearn.naive_bayes import MultinomialNB\n",
        "from sklearn.metrics import accuracy_score\n",
        "\n",
        "\n",
        "X = data['text']\n",
        "y = data['label']\n",
        "\n",
        "\n",
        "vectorizer = TfidfVectorizer()\n",
        "X_tfidf = vectorizer.fit_transform(X)\n",
        "\n",
        "X_train, X_test, y_train, y_test = train_test_split(X_tfidf, y, test_size=0.2, random_state=42)\n",
        "\n",
        "nb_classifier = MultinomialNB()\n",
        "nb_classifier.fit(X_train, y_train)\n",
        "\n",
        "predictions = nb_classifier.predict(X_test)\n",
        "\n",
        "accuracy = accuracy_score(y_test, predictions)\n",
        "print(f'Accuracy: {accuracy:.2f}')\n",
        "accuracy\n",
        "\n",
        "\n",
        "\n",
        "\n"
      ]
    }
  ]
}